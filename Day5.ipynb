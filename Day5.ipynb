{
 "cells": [
  {
   "cell_type": "code",
   "execution_count": 1,
   "metadata": {},
   "outputs": [
    {
     "name": "stdout",
     "output_type": "stream",
     "text": [
      "\n",
      "x= 0.0 \n",
      "y= 0.0 \n",
      "z= -0.0\n"
     ]
    }
   ],
   "source": [
    "import numpy as np\n",
    "\n",
    "print(\"Cau 1\")\n",
    "print(\"a)\")\n",
    "# A@X = B\n",
    "A =  np.array([\n",
    "    [1,2,1],\n",
    "    [2,-1,1],\n",
    "    [2,1,0]\n",
    "])\n",
    "\n",
    "B = np.array([\n",
    "    [0],\n",
    "    [0],\n",
    "    [0]\n",
    "])\n",
    "\n",
    "X = np.linalg.solve(A,B)\n",
    "print(\"\\nx=\",X[0,0],\"\\ny=\",X[1,0],\"\\nz=\",X[2,0])"
   ]
  },
  {
   "cell_type": "code",
   "execution_count": 2,
   "metadata": {},
   "outputs": [
    {
     "name": "stdout",
     "output_type": "stream",
     "text": [
      "b)\n",
      "\n",
      "x= 0.25 \n",
      "y= 0.25 \n",
      "z= 0.0 \n",
      "t= 0.25\n"
     ]
    }
   ],
   "source": [
    "print(\"b)\")\n",
    "A = np.array([\n",
    "    [2,1,1,1],\n",
    "    [1,2,1,1],\n",
    "    [1,1,2,2],\n",
    "    [1,1,1,2]\n",
    "])\n",
    "\n",
    "B = np.array([\n",
    "    [1],\n",
    "    [1],\n",
    "    [1],\n",
    "    [1]\n",
    "])\n",
    "\n",
    "X = np.linalg.solve(A,B)\n",
    "print(\"\\nx=\",X[0,0],\"\\ny=\",X[1,0],\"\\nz=\",X[2,0],\"\\nt=\",X[3,0])"
   ]
  },
  {
   "cell_type": "code",
   "execution_count": 10,
   "metadata": {},
   "outputs": [
    {
     "name": "stdout",
     "output_type": "stream",
     "text": [
      "Cau 5\n",
      "a)\n",
      "Ma tran kha nghich\n",
      "b)\n",
      "\n",
      "x= -9.000000000000009 \n",
      "y= 6.000000000000006 \n",
      "z= 2.0000000000000018\n"
     ]
    }
   ],
   "source": [
    "#\tCau 5\n",
    "#\t5a) Neu dinh thuc cua ma tran A = 0 => A khong kha nghich\n",
    "#\t5b) Use the inverse matrix to find the solution for this linear system\n",
    "#\tSu dung phuong pháp ma trận nghịch đảo tìm nghiệm Hệ PTTT\n",
    "#\tA@x = B <=> A^(-1)@A@X = A^(-1)@B\n",
    "#\t        <=>\tX = A^(-1)@B\n",
    "\n",
    "print(\"Cau 5\")\n",
    "print(\"a)\")\n",
    "A =  np.array([\n",
    "    [1,1,2],\n",
    "    [3,6,-5],\n",
    "    [2,4,-3]\n",
    "])\n",
    "\n",
    "B = np.array([\n",
    "    [1],\n",
    "    [-1],\n",
    "    [0]\n",
    "])\n",
    "\n",
    "detA = np.linalg.det(A)\n",
    "if detA == 0:\n",
    "    print(\"Ma tran khong kha nghich\")\n",
    "else:\n",
    "    print(\"Ma tran kha nghich\")\n",
    "print(\"b)\")\n",
    "inreverA = np.linalg.inv(A)\n",
    "X = inreverA@B\n",
    "print(\"\\nx=\",X[0,0],\"\\ny=\",X[1,0],\"\\nz=\",X[2,0])\n"
   ]
  },
  {
   "cell_type": "code",
   "execution_count": 18,
   "metadata": {},
   "outputs": [
    {
     "ename": "ModuleNotFoundError",
     "evalue": "No module named 'scipy'",
     "output_type": "error",
     "traceback": [
      "\u001b[1;31m---------------------------------------------------------------------------\u001b[0m",
      "\u001b[1;31mModuleNotFoundError\u001b[0m                       Traceback (most recent call last)",
      "\u001b[1;32m~\\AppData\\Local\\Temp/ipykernel_44108/4017673770.py\u001b[0m in \u001b[0;36m<module>\u001b[1;34m\u001b[0m\n\u001b[1;32m----> 1\u001b[1;33m \u001b[1;32mfrom\u001b[0m \u001b[0mscipy\u001b[0m \u001b[1;32mimport\u001b[0m \u001b[0mlinalg\u001b[0m\u001b[1;33m\u001b[0m\u001b[1;33m\u001b[0m\u001b[0m\n\u001b[0m\u001b[0;32m      2\u001b[0m A = np.array([\n\u001b[0;32m      3\u001b[0m               \u001b[1;33m[\u001b[0m\u001b[1;36m1\u001b[0m\u001b[1;33m,\u001b[0m\u001b[1;36m1\u001b[0m\u001b[1;33m,\u001b[0m\u001b[1;36m2\u001b[0m\u001b[1;33m]\u001b[0m\u001b[1;33m,\u001b[0m\u001b[1;33m\u001b[0m\u001b[1;33m\u001b[0m\u001b[0m\n\u001b[0;32m      4\u001b[0m               \u001b[1;33m[\u001b[0m\u001b[1;36m3\u001b[0m\u001b[1;33m,\u001b[0m\u001b[1;36m6\u001b[0m\u001b[1;33m,\u001b[0m\u001b[1;33m-\u001b[0m\u001b[1;36m5\u001b[0m\u001b[1;33m]\u001b[0m\u001b[1;33m,\u001b[0m\u001b[1;33m\u001b[0m\u001b[1;33m\u001b[0m\u001b[0m\n\u001b[0;32m      5\u001b[0m               [2,4,-3]]);\n",
      "\u001b[1;31mModuleNotFoundError\u001b[0m: No module named 'scipy'"
     ]
    }
   ],
   "source": [
    "from scipy import linalg\n",
    "A = np.array([\n",
    "              [1,1,2],\n",
    "              [3,6,-5],\n",
    "              [2,4,-3]]);\n",
    "B = np.array([\n",
    "              [1],\n",
    "              [-1],\n",
    "              [0]]);\n",
    "L,U = linalg.lu(A,permute_l=True)\n",
    "X = (np.linalg.inv(U))@(np.linalg.inv(L))@B\n",
    "print(X)\n",
    "print(\"\\nx = \",X[0,0],\"\\ny = \", X[1,0],\"\\nz = \",X[2,0])\n",
    "  "
   ]
  }
 ],
 "metadata": {
  "interpreter": {
   "hash": "cf6663ca35ebd57d6121109460e534e72c1e1f8ff142ad985cdcb4b7e585eb79"
  },
  "kernelspec": {
   "display_name": "Python 3.9.9 64-bit",
   "language": "python",
   "name": "python3"
  },
  "language_info": {
   "codemirror_mode": {
    "name": "ipython",
    "version": 3
   },
   "file_extension": ".py",
   "mimetype": "text/x-python",
   "name": "python",
   "nbconvert_exporter": "python",
   "pygments_lexer": "ipython3",
   "version": "3.9.9"
  },
  "orig_nbformat": 4
 },
 "nbformat": 4,
 "nbformat_minor": 2
}
